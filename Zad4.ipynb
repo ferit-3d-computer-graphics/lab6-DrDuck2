{
 "cells": [
  {
   "cell_type": "code",
   "execution_count": 16,
   "id": "3819da1f-e070-4db8-8b40-0fd11d93196b",
   "metadata": {},
   "outputs": [
    {
     "data": {
      "application/vnd.jupyter.widget-view+json": {
       "model_id": "947d155880ec44f6970e803dddea9d69",
       "version_major": 2,
       "version_minor": 0
      },
      "text/plain": [
       "Output()"
      ]
     },
     "metadata": {},
     "output_type": "display_data"
    }
   ],
   "source": [
    "import k3d\n",
    "import numpy as np\n",
    "import time\n",
    "from matplotlib.colors import Normalize\n",
    "\n",
    "plot = k3d.plot(grid_visible=True, axes_helper=0)\n",
    "plot.camera = [5, 5, 5, 0, 0, 0, 0, 0, 1]\n",
    "\n",
    "grid_size = 5\n",
    "x_pos = np.linspace(-2, 2, grid_size)\n",
    "y_pos = np.linspace(-2, 2, grid_size)\n",
    "X, Y = np.meshgrid(x_pos, y_pos)\n",
    "\n",
    "origins = np.stack([X.ravel(), Y.ravel(), np.zeros(grid_size**2)], axis=1).astype(np.float32)\n",
    "heights = np.random.uniform(0.5, 2.5, size=grid_size**2)\n",
    "directions = np.stack([np.zeros(grid_size**2), np.zeros(grid_size**2), heights], axis=1).astype(np.float32)\n",
    "\n",
    "norm = Normalize(vmin=0, vmax=3)\n",
    "bars = k3d.vectors(\n",
    "    origins=origins,\n",
    "    vectors=directions,\n",
    "    attribute=heights,\n",
    "    color_map=k3d.colormaps.matplotlib_color_maps.Viridis,  # Correct reference\n",
    "    color_range=[0, 3],\n",
    "    line_width=0.1,\n",
    "    head_size=1.5\n",
    ")\n",
    "\n",
    "plot += bars\n",
    "\n",
    "plot += k3d.text2d(\"3D Time Series Dashboard\", position=[0.05, 0], size=1.5, color=0x000000)\n",
    "color_legend = k3d.text2d(\"Value Scale\\n0.0 (low) → 3.0 (high)\", position=[0.6, 0.8], size=1.0, color=0x000000)\n",
    "plot += color_legend\n",
    "\n",
    "plot.display()\n",
    "\n",
    "for t in range(100):\n",
    "    phase = t * 0.1\n",
    "    heights = 1.5 * np.sin(phase + X.ravel()*0.5 + Y.ravel()*0.3) + 1.5\n",
    "    heights += 0.3 * np.random.randn(*heights.shape)\n",
    "    \n",
    "    directions[:, 2] = heights\n",
    "    bars.vectors = directions.astype(np.float32)\n",
    "    bars.attribute = heights\n",
    "    \n",
    "    current_max = f\"Current Max: {heights.max():.2f}\"\n",
    "    color_legend.text = f\"Value Scale\\n0.0 (low) → 3.0 (high)\\n{current_max}\"\n",
    "    \n",
    "    time.sleep(0.1)\n",
    "\n"
   ]
  },
  {
   "cell_type": "code",
   "execution_count": null,
   "id": "e57ebc29-e200-47f0-afa3-a430fc55d1bd",
   "metadata": {},
   "outputs": [],
   "source": []
  }
 ],
 "metadata": {
  "kernelspec": {
   "display_name": "Python 3 (ipykernel)",
   "language": "python",
   "name": "python3"
  },
  "language_info": {
   "codemirror_mode": {
    "name": "ipython",
    "version": 3
   },
   "file_extension": ".py",
   "mimetype": "text/x-python",
   "name": "python",
   "nbconvert_exporter": "python",
   "pygments_lexer": "ipython3",
   "version": "3.9.21"
  }
 },
 "nbformat": 4,
 "nbformat_minor": 5
}
