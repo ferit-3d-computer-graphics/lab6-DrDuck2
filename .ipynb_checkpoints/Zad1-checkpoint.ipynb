{
 "cells": [
  {
   "cell_type": "code",
   "execution_count": 2,
   "id": "a79e910a-8ccd-4c2f-8ecd-ed330c60b906",
   "metadata": {},
   "outputs": [
    {
     "data": {
      "application/vnd.jupyter.widget-view+json": {
       "model_id": "b9825496deb44a6888ba48b369a70b35",
       "version_major": 2,
       "version_minor": 0
      },
      "text/plain": [
       "Output()"
      ]
     },
     "metadata": {},
     "output_type": "display_data"
    }
   ],
   "source": [
    "import k3d\n",
    "import numpy as np\n",
    "import time\n",
    "\n",
    "t = np.linspace(0, 2 * np.pi, 100)\n",
    "scale = 1.5  # Size of the figure-eight\n",
    "\n",
    "x = scale * np.sin(t)\n",
    "y = scale * np.sin(2 * t) * 0.8  \n",
    "z = 0.5 * np.cos(t) \n",
    "\n",
    "trajectory = np.stack([x, y, z], axis=1).astype(np.float32)\n",
    "\n",
    "plot = k3d.plot()\n",
    "\n",
    "path_line = k3d.line(trajectory, width=0.05, color=0x666666)\n",
    "plot += path_line\n",
    "\n",
    "moving_point = k3d.points([trajectory[0]], \n",
    "                         point_size=0.3, \n",
    "                         color=0xff0000,\n",
    "                         shader='3d')\n",
    "plot += moving_point\n",
    "\n",
    "plot.display()\n",
    "\n",
    "for pos in trajectory:\n",
    "    moving_point.positions = np.array([pos], dtype=np.float32)\n",
    "    time.sleep(0.03)\n"
   ]
  },
  {
   "cell_type": "code",
   "execution_count": null,
   "id": "ef5d1ecf-9dc5-47c2-bd32-f534060ed386",
   "metadata": {},
   "outputs": [],
   "source": []
  }
 ],
 "metadata": {
  "kernelspec": {
   "display_name": "Python 3 (ipykernel)",
   "language": "python",
   "name": "python3"
  },
  "language_info": {
   "codemirror_mode": {
    "name": "ipython",
    "version": 3
   },
   "file_extension": ".py",
   "mimetype": "text/x-python",
   "name": "python",
   "nbconvert_exporter": "python",
   "pygments_lexer": "ipython3",
   "version": "3.9.21"
  }
 },
 "nbformat": 4,
 "nbformat_minor": 5
}
