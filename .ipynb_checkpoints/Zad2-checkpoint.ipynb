{
 "cells": [
  {
   "cell_type": "code",
   "execution_count": 2,
   "id": "bcb1cfc2-eedd-47de-a41d-711ff0c96c25",
   "metadata": {},
   "outputs": [
    {
     "data": {
      "application/vnd.jupyter.widget-view+json": {
       "model_id": "1332c7866cfd44ecbe83f2b0978cbf44",
       "version_major": 2,
       "version_minor": 0
      },
      "text/plain": [
       "Output()"
      ]
     },
     "metadata": {},
     "output_type": "display_data"
    }
   ],
   "source": [
    "import k3d\n",
    "import numpy as np\n",
    "import time\n",
    "\n",
    "grid_size = 5\n",
    "x, y, z = np.meshgrid(np.linspace(-2, 2, grid_size),\n",
    "                     np.linspace(-2, 2, grid_size),\n",
    "                     np.linspace(-2, 2, grid_size))\n",
    "origins = np.stack([x.ravel(), y.ravel(), z.ravel()], axis=1).astype(np.float32)\n",
    "\n",
    "theta = np.arctan2(y, x).ravel()\n",
    "initial_directions = np.stack([\n",
    "    np.sin(theta),\n",
    "    np.cos(theta),\n",
    "    z.ravel() * 0.5\n",
    "], axis=1).astype(np.float32)\n",
    "\n",
    "plot = k3d.plot()\n",
    "vectors = k3d.vectors(\n",
    "    origins=origins,\n",
    "    vectors=initial_directions,\n",
    "    color=0x00FF00,\n",
    "    line_width=0.05,\n",
    "    head_size=1.2\n",
    ")\n",
    "plot += vectors\n",
    "plot.display()\n",
    "\n",
    "for t in range(100):\n",
    "    phase = t * 0.2\n",
    "    dx = np.sin(phase + x*0.5 + y*0.3).ravel()\n",
    "    dy = np.cos(phase + y*0.4 + z*0.2).ravel()\n",
    "    dz = np.sin(phase*0.5 + z*0.3 + x*0.4).ravel()\n",
    "    \n",
    "    # Combine components and scale\n",
    "    new_directions = np.stack([dx, dy, dz], axis=1) * 0.5\n",
    "    vectors.vectors = new_directions.astype(np.float32)\n",
    "    \n",
    "    time.sleep(0.05)\n"
   ]
  },
  {
   "cell_type": "code",
   "execution_count": null,
   "id": "9e31e97c-9b60-47e9-906e-14036c0c3a92",
   "metadata": {},
   "outputs": [],
   "source": []
  }
 ],
 "metadata": {
  "kernelspec": {
   "display_name": "Python 3 (ipykernel)",
   "language": "python",
   "name": "python3"
  },
  "language_info": {
   "codemirror_mode": {
    "name": "ipython",
    "version": 3
   },
   "file_extension": ".py",
   "mimetype": "text/x-python",
   "name": "python",
   "nbconvert_exporter": "python",
   "pygments_lexer": "ipython3",
   "version": "3.9.21"
  }
 },
 "nbformat": 4,
 "nbformat_minor": 5
}
