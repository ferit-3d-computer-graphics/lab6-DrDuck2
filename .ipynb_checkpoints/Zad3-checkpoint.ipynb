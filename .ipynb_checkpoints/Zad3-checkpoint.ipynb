{
 "cells": [
  {
   "cell_type": "code",
   "execution_count": 2,
   "id": "e4a4bdaa-4feb-4593-9d77-a7d95d0713b8",
   "metadata": {},
   "outputs": [
    {
     "data": {
      "application/vnd.jupyter.widget-view+json": {
       "model_id": "cf1f3823820c4f51b6908776006336e2",
       "version_major": 2,
       "version_minor": 0
      },
      "text/plain": [
       "Output()"
      ]
     },
     "metadata": {},
     "output_type": "display_data"
    }
   ],
   "source": [
    "import k3d\n",
    "import numpy as np\n",
    "import time\n",
    "from matplotlib.cm import jet\n",
    "from matplotlib.colors import Normalize\n",
    "\n",
    "grid_size = 40\n",
    "x = np.linspace(-3, 3, grid_size)\n",
    "y = np.linspace(-3, 3, grid_size)\n",
    "X, Y = np.meshgrid(x, y)\n",
    "Z = 0.5 * np.sin(X**2 + Y**2)  \n",
    "\n",
    "vertices = np.stack([X.ravel(), Y.ravel(), Z.ravel()], axis=1).astype(np.float32)\n",
    "\n",
    "faces = []\n",
    "for i in range(grid_size-1):\n",
    "    for j in range(grid_size-1):\n",
    "        idx = i * grid_size + j\n",
    "        faces.append([idx, idx+1, idx+grid_size])\n",
    "        faces.append([idx+1, idx+grid_size+1, idx+grid_size])\n",
    "faces = np.array(faces, dtype=np.uint32)\n",
    "\n",
    "plot = k3d.plot()\n",
    "temperature = np.zeros_like(Z.ravel())\n",
    "mesh = k3d.mesh(vertices, faces, colors=[] , wireframe=False, flat_shading=False)\n",
    "plot += mesh\n",
    "plot.display()\n",
    "\n",
    "cmap = jet\n",
    "norm = Normalize(vmin=-1, vmax=1)\n",
    "\n",
    "for t in range(100):\n",
    "    temperature = np.sin(X.ravel() + t*0.2) * np.cos(Y.ravel() + t*0.15) + 0.3*np.random.randn(*X.ravel().shape)\n",
    "    \n",
    "    colors = (cmap(norm(temperature))[:, :3] * 255).astype(np.uint32)\n",
    "    hex_colors = (colors[:, 0] << 16) | (colors[:, 1] << 8) | colors[:, 2]\n",
    "    \n",
    "    mesh.colors = hex_colors.astype(np.uint32)\n",
    "    \n",
    "    time.sleep(0.05)\n"
   ]
  },
  {
   "cell_type": "code",
   "execution_count": null,
   "id": "3ea4a0c8-174a-4222-9f22-ea553d7ec8ee",
   "metadata": {},
   "outputs": [],
   "source": []
  }
 ],
 "metadata": {
  "kernelspec": {
   "display_name": "Python 3 (ipykernel)",
   "language": "python",
   "name": "python3"
  },
  "language_info": {
   "codemirror_mode": {
    "name": "ipython",
    "version": 3
   },
   "file_extension": ".py",
   "mimetype": "text/x-python",
   "name": "python",
   "nbconvert_exporter": "python",
   "pygments_lexer": "ipython3",
   "version": "3.9.21"
  }
 },
 "nbformat": 4,
 "nbformat_minor": 5
}
